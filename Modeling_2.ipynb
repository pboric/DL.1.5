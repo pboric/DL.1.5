{
 "cells": [
  {
   "cell_type": "markdown",
   "metadata": {},
   "source": [
    "  # 🍄 Enhanced Mushroom Classification Project - Version 2\n",
    "\n",
    "\n",
    "\n",
    "\n",
    "\n",
    "\n",
    "\n",
    "  ## Project Overview\n",
    "\n",
    "\n",
    "\n",
    "\n",
    "\n",
    "\n",
    "\n",
    "  Building an improved machine learning model for mushroom classification, incorporating:\n",
    "\n",
    "\n",
    "\n",
    "  1. Insights from previous model evaluation (Suillus performance, Lactarius-Russula confusion)\n",
    "\n",
    "\n",
    "\n",
    "  2. Architecture improvements (intermediate layers)\n",
    "\n",
    "\n",
    "\n",
    "  3. Multiple optimizer comparison\n",
    "\n",
    "\n",
    "\n",
    "\n",
    "\n",
    "\n",
    "\n",
    "  **Previous Model Results:**\n",
    "\n",
    "\n",
    "\n",
    "  - Overall Accuracy: 88%\n",
    "\n",
    "\n",
    "\n",
    "  - Areas for Improvement:\n",
    "\n",
    "\n",
    "\n",
    "    - Suillus class (F1-score: 0.73)\n",
    "\n",
    "\n",
    "\n",
    "    - Lactarius-Russula confusion\n",
    "\n",
    "\n",
    "\n",
    "    - Cortinarius recall (77%)"
   ]
  },
  {
   "cell_type": "markdown",
   "metadata": {},
   "source": [
    "  ## 1. Imports and Setup\n",
    "\n",
    "\n",
    "\n",
    "  1. **Basic Dependencies**\n",
    "\n",
    "    - Core Python libraries (os, time, multiprocessing)\n",
    "\n",
    "    - NumPy and visualization libraries (matplotlib, seaborn)\n",
    "\n",
    "\n",
    "\n",
    " 2. **Deep Learning Framework**\n",
    "\n",
    "    - PyTorch and PyTorch Lightning for model development\n",
    "\n",
    "    - Torchmetrics for performance metrics\n",
    "\n",
    "    - Pre-trained ResNet34 model\n",
    "\n",
    "\n",
    "\n",
    " 3. **Data Augmentation**\n",
    "\n",
    "    - Albumentations library for image transformations\n",
    "\n",
    "\n",
    "\n",
    " 4. **System Setup**\n",
    "\n",
    "    - Windows compatibility with multiprocessing\n",
    "\n",
    "    - CUDA and Tensor Core configuration\n",
    "\n",
    "    - Checkpoint directory management"
   ]
  },
  {
   "cell_type": "code",
   "execution_count": null,
   "metadata": {},
   "outputs": [
    {
     "name": "stderr",
     "output_type": "stream",
     "text": [
      "c:\\Users\\kresi\\AppData\\Local\\Programs\\Python\\Python310\\lib\\site-packages\\albumentations\\__init__.py:24: UserWarning: A new version of Albumentations is available: 1.4.21 (you have 1.4.20). Upgrade using: pip install -U albumentations. To disable automatic update checks, set the environment variable NO_ALBUMENTATIONS_UPDATE to 1.\n",
      "  check_for_updates()\n",
      "INFO:__main__:Enabled Tensor Cores with medium precision\n",
      "INFO:__main__:Using GPU: NVIDIA GeForce RTX 3070 Laptop GPU\n"
     ]
    }
   ],
   "source": [
    "import os\n",
    "import time\n",
    "import multiprocessing\n",
    "from pathlib import Path\n",
    "import numpy as np\n",
    "import matplotlib.pyplot as plt\n",
    "import seaborn as sns\n",
    "\n",
    "import torch\n",
    "import torch.nn as nn\n",
    "import torch.nn.functional as F\n",
    "import pytorch_lightning as pl\n",
    "from pytorch_lightning.callbacks import ModelCheckpoint, EarlyStopping\n",
    "import torchmetrics\n",
    "from torchvision import models\n",
    "from torchvision.models import ResNet34_Weights\n",
    "\n",
    "import albumentations as A\n",
    "from albumentations.pytorch import ToTensorV2\n",
    "\n",
    "from sklearn.metrics import confusion_matrix, classification_report\n",
    "\n",
    "import logging\n",
    "logging.basicConfig(level=logging.INFO)\n",
    "logger = logging.getLogger(__name__)\n",
    "\n",
    "from config import Config\n",
    "from improved_mushroom_dataset import MushroomDataset\n",
    "from improved_mushroom_data_module import MushroomDataModule\n",
    "\n",
    "multiprocessing.set_start_method('spawn', force=True)\n",
    "\n",
    "if torch.cuda.is_available():\n",
    "    torch.set_float32_matmul_precision('medium')\n",
    "    logger.info(\"Enabled Tensor Cores with medium precision\")\n",
    "    logger.info(f\"Using GPU: {torch.cuda.get_device_name(0)}\")\n",
    "\n",
    "checkpoint_dir = Path('checkpoints')\n",
    "if checkpoint_dir.exists():\n",
    "    import shutil\n",
    "    shutil.rmtree(checkpoint_dir)\n",
    "checkpoint_dir.mkdir(exist_ok=True)\n",
    "\n"
   ]
  },
  {
   "cell_type": "markdown",
   "metadata": {},
   "source": [
    "  ## 2. Data Transforms\n",
    "\n",
    "\n",
    "\n",
    "  This cell defines two transform pipelines:\n",
    "\n",
    "\n",
    "\n",
    " 1. **Training Transforms**\n",
    "\n",
    "    - Resizing to consistent dimensions\n",
    "\n",
    "    - Data augmentation techniques:\n",
    "\n",
    "      - Flips (horizontal/vertical)\n",
    "\n",
    "      - Rotations\n",
    "\n",
    "      - Brightness/contrast adjustments\n",
    "\n",
    "      - Color jittering\n",
    "\n",
    "      - Random cropping\n",
    "\n",
    "    - Normalization using ImageNet statistics\n",
    "\n",
    "\n",
    "\n",
    " 2. **Validation Transforms**\n",
    "\n",
    "    - Simple resize operation\n",
    "\n",
    "    - Normalization only (no augmentation)"
   ]
  },
  {
   "cell_type": "code",
   "execution_count": 2,
   "metadata": {},
   "outputs": [],
   "source": [
    "train_transforms = A.Compose([\n",
    "    A.Resize(Config.IMG_SIZE, Config.IMG_SIZE),\n",
    "    A.HorizontalFlip(p=0.5),\n",
    "    A.VerticalFlip(p=0.5),\n",
    "    A.RandomRotate90(p=0.5),\n",
    "    A.Rotate(limit=30, p=0.5),\n",
    "    A.RandomBrightnessContrast(p=0.5),\n",
    "    A.ColorJitter(p=0.5),\n",
    "    A.HueSaturationValue(p=0.5),\n",
    "    A.RandomResizedCrop(Config.IMG_SIZE, Config.IMG_SIZE, scale=(0.8, 1.0), ratio=(0.9, 1.1), p=0.5),\n",
    "    A.Normalize(mean=[0.485, 0.456, 0.406],\n",
    "                std=[0.229, 0.224, 0.225]),\n",
    "    ToTensorV2()\n",
    "])\n",
    "\n",
    "val_transforms = A.Compose([\n",
    "    A.Resize(Config.IMG_SIZE, Config.IMG_SIZE),\n",
    "    A.Normalize(mean=[0.485, 0.456, 0.406],\n",
    "                std=[0.229, 0.224, 0.225]),\n",
    "    ToTensorV2()\n",
    "])\n",
    "\n"
   ]
  },
  {
   "cell_type": "markdown",
   "metadata": {},
   "source": [
    "  ## 3. Enhanced Model Architecture\n",
    "\n",
    "\n",
    "\n",
    "   This cell defines the main model architecture:\n",
    "\n",
    "\n",
    "\n",
    " 1. **Model Components**\n",
    "\n",
    "    - ResNet34 backbone\n",
    "\n",
    "    - Custom intermediate layers\n",
    "\n",
    "    - Special pathways for problem classes\n",
    "\n",
    "    - Final classifier\n",
    "\n",
    "\n",
    "\n",
    " 2. **Key Methods**\n",
    "\n",
    "    - Forward pass implementation\n",
    "\n",
    "    - Training step with loss calculation\n",
    "\n",
    "    - Validation step\n",
    "\n",
    "    - Optimizer configuration\n",
    "\n",
    "\n",
    "\n",
    " 3. **Special Features**\n",
    "\n",
    "    - Class weighting for imbalance\n",
    "\n",
    "    - Multiple optimizer support\n",
    "\n",
    "    - Custom metrics tracking"
   ]
  },
  {
   "cell_type": "code",
   "execution_count": null,
   "metadata": {},
   "outputs": [],
   "source": [
    "class EnhancedMushroomClassifier(pl.LightningModule):\n",
    "    def __init__(self, num_classes=Config.NUM_CLASSES, learning_rate=Config.LEARNING_RATE,\n",
    "                 class_weights=None, optimizer_name='adamw', dropout_rate=0.5):\n",
    "        super().__init__()\n",
    "        \n",
    "        self.save_hyperparameters()\n",
    "        self.num_classes = num_classes\n",
    "        self.learning_rate = learning_rate\n",
    "        self.class_weights = class_weights\n",
    "        self.optimizer_name = optimizer_name\n",
    "        \n",
    "        self.backbone = models.resnet34(weights=ResNet34_Weights.DEFAULT)\n",
    "        backbone_output_size = self.backbone.fc.in_features\n",
    "        self.backbone = nn.Sequential(*list(self.backbone.children())[:-1])\n",
    "        \n",
    "        self.intermediate = nn.Sequential(\n",
    "            nn.Flatten(),\n",
    "            nn.Linear(backbone_output_size, 1024),\n",
    "            nn.ReLU(),\n",
    "            nn.BatchNorm1d(1024),\n",
    "            nn.Dropout(dropout_rate),\n",
    "            nn.Linear(1024, 512),\n",
    "            nn.ReLU(),\n",
    "            nn.BatchNorm1d(512),\n",
    "            nn.Dropout(dropout_rate)\n",
    "        )\n",
    "        \n",
    "        self.special_pathways = nn.ModuleDict({\n",
    "            'suillus': nn.Sequential(\n",
    "                nn.Linear(512, 256),\n",
    "                nn.ReLU(),\n",
    "                nn.BatchNorm1d(256),\n",
    "                nn.Dropout(0.3)\n",
    "            ),\n",
    "            'lactarius_russula': nn.Sequential(\n",
    "                nn.Linear(512, 256),\n",
    "                nn.ReLU(),\n",
    "                nn.BatchNorm1d(256),\n",
    "                nn.Dropout(0.3)\n",
    "            )\n",
    "        })\n",
    "        \n",
    "        self.classifier = nn.Linear(512 + 256 * 2, num_classes)\n",
    "        \n",
    "        self.train_acc = torchmetrics.Accuracy(task=\"multiclass\", num_classes=self.num_classes)\n",
    "        self.val_acc = torchmetrics.Accuracy(task=\"multiclass\", num_classes=self.num_classes)\n",
    "        self.class_f1 = torchmetrics.F1Score(task=\"multiclass\", num_classes=self.num_classes, average=None)\n",
    "\n",
    "    def forward(self, x):\n",
    "        features = self.backbone(x)\n",
    "        intermediate_features = self.intermediate(features)\n",
    "        \n",
    "        suillus_features = self.special_pathways['suillus'](intermediate_features)\n",
    "        lr_features = self.special_pathways['lactarius_russula'](intermediate_features)\n",
    "        \n",
    "        combined_features = torch.cat([\n",
    "            intermediate_features,\n",
    "            suillus_features,\n",
    "            lr_features\n",
    "        ], dim=1)\n",
    "        \n",
    "        return self.classifier(combined_features)\n",
    "    \n",
    "    def training_step(self, batch, batch_idx):\n",
    "        x, y = batch\n",
    "        logits = self(x)\n",
    "        loss = F.cross_entropy(logits, y, weight=self.class_weights.to(self.device))\n",
    "        preds = torch.argmax(logits, dim=1)\n",
    "        \n",
    "        acc = self.train_acc(preds, y)\n",
    "        f1_scores = self.class_f1(preds, y)\n",
    "        \n",
    "        self.log('train_loss', loss, prog_bar=True)\n",
    "        self.log('train_acc', acc, prog_bar=True)\n",
    "        self.log('train_suillus_f1', f1_scores[8], prog_bar=True)\n",
    "        \n",
    "        return loss\n",
    "    \n",
    "    def validation_step(self, batch, batch_idx):\n",
    "        x, y = batch\n",
    "        logits = self(x)\n",
    "        loss = F.cross_entropy(logits, y, weight=self.class_weights.to(self.device))\n",
    "        preds = torch.argmax(logits, dim=1)\n",
    "        \n",
    "        acc = self.val_acc(preds, y)\n",
    "        f1_scores = self.class_f1(preds, y)\n",
    "        \n",
    "        # Log metrics\n",
    "        self.log('val_loss', loss, prog_bar=True)\n",
    "        self.log('val_acc', acc, prog_bar=True)\n",
    "        self.log('val_suillus_f1', f1_scores[8], prog_bar=True)\n",
    "        \n",
    "        return {'val_loss': loss, 'val_acc': acc}\n",
    "    \n",
    "    def configure_optimizers(self):\n",
    "        params = self.parameters()\n",
    "        \n",
    "        if self.optimizer_name == 'adamw':\n",
    "            optimizer = torch.optim.AdamW(\n",
    "                params,\n",
    "                lr=self.learning_rate,\n",
    "                weight_decay=0.01\n",
    "            )\n",
    "        elif self.optimizer_name == 'sgd_nesterov':\n",
    "            optimizer = torch.optim.SGD(\n",
    "                params,\n",
    "                lr=self.learning_rate,\n",
    "                momentum=0.9,\n",
    "                nesterov=True,\n",
    "                weight_decay=0.01\n",
    "            )\n",
    "        elif self.optimizer_name == 'radam':\n",
    "            optimizer = torch.optim.RAdam(\n",
    "                params,\n",
    "                lr=self.learning_rate,\n",
    "                weight_decay=0.01\n",
    "            )\n",
    "        \n",
    "        scheduler = torch.optim.lr_scheduler.ReduceLROnPlateau(\n",
    "            optimizer,\n",
    "            mode='min',\n",
    "            factor=0.5,\n",
    "            patience=2,\n",
    "            verbose=False\n",
    "        )\n",
    "        \n",
    "        return {\n",
    "            'optimizer': optimizer,\n",
    "            'lr_scheduler': scheduler,\n",
    "            'monitor': 'val_loss'\n",
    "        }\n",
    "\n"
   ]
  },
  {
   "cell_type": "markdown",
   "metadata": {},
   "source": [
    "  ## 4. Training and Evaluation Functions\n",
    "\n",
    "\n",
    "\n",
    " This cell contains utility functions:\n",
    "\n",
    "\n",
    "\n",
    " 1. **Model Evaluation**\n",
    "\n",
    "    - Confusion matrix generation\n",
    "\n",
    "    - Classification report creation\n",
    "\n",
    "    - Performance metrics calculation\n",
    "\n",
    "\n",
    "\n",
    " 2. **Results Visualization**\n",
    "\n",
    "    - Accuracy comparison plots\n",
    "\n",
    "    - F1-score visualization\n",
    "\n",
    "    - Confusion matrix heatmaps"
   ]
  },
  {
   "cell_type": "code",
   "execution_count": null,
   "metadata": {},
   "outputs": [],
   "source": [
    "def evaluate_model(model, data_module):\n",
    "    \"\"\"Evaluate model performance on validation set and measure inference time\"\"\"\n",
    "    model.eval()\n",
    "    val_loader = data_module.val_dataloader()\n",
    "    all_preds = []\n",
    "    all_labels = []\n",
    "    total_inference_time = 0.0  # Initialize total inference time\n",
    "    total_images = 0\n",
    "    \n",
    "    with torch.no_grad():\n",
    "        for batch in val_loader:\n",
    "            x, y = batch\n",
    "            x = x.to(model.device)\n",
    "            y = y.to(model.device)\n",
    "            \n",
    "            start_time = time.time()\n",
    "            logits = model(x)\n",
    "            end_time = time.time()\n",
    "            \n",
    "            batch_time = end_time - start_time\n",
    "            total_inference_time += batch_time\n",
    "            total_images += x.size(0)\n",
    "            \n",
    "            preds = torch.argmax(logits, dim=1)\n",
    "            all_preds.extend(preds.cpu().numpy())\n",
    "            all_labels.extend(y.cpu().numpy())\n",
    "    \n",
    "    avg_inference_time = total_inference_time / total_images\n",
    "    \n",
    "    print(f\"\\nTotal Inference Time: {total_inference_time:.4f} seconds\")\n",
    "    print(f\"Average Inference Time per Image: {avg_inference_time * 1000:.4f} ms\")\n",
    "    \n",
    "    return {\n",
    "        'confusion_matrix': confusion_matrix(all_labels, all_preds),\n",
    "        'classification_report': classification_report(\n",
    "            all_labels,\n",
    "            all_preds,\n",
    "            target_names=list(data_module.class_to_idx.keys()),\n",
    "            output_dict=True\n",
    "        ),\n",
    "        'total_inference_time': total_inference_time,\n",
    "        'avg_inference_time_per_image': avg_inference_time\n",
    "    }\n",
    "\n",
    "def plot_results(results):\n",
    "    \"\"\"Plot accuracy, Suillus F1-score, and average inference time comparisons\"\"\"\n",
    "    plt.figure(figsize=(20, 5))\n",
    "    \n",
    "    optimizers = list(results.keys())\n",
    "    \n",
    "    accuracies = [res['classification_report']['accuracy'] for res in results.values()]\n",
    "    plt.subplot(1, 3, 1)\n",
    "    plt.bar(optimizers, accuracies)\n",
    "    plt.title('Accuracy by Optimizer')\n",
    "    plt.ylabel('Accuracy')\n",
    "    \n",
    "    suillus_f1 = [res['classification_report']['Suillus']['f1-score'] for res in results.values()]\n",
    "    plt.subplot(1, 3, 2)\n",
    "    plt.bar(optimizers, suillus_f1)\n",
    "    plt.title('Suillus F1-Score by Optimizer')\n",
    "    plt.ylabel('F1-Score')\n",
    "    \n",
    "    avg_times = [res['avg_inference_time_per_image'] * 1000 for res in results.values()]\n",
    "    plt.subplot(1, 3, 3)\n",
    "    plt.bar(optimizers, avg_times)\n",
    "    plt.title('Avg Inference Time per Image')\n",
    "    plt.ylabel('Time (ms)')\n",
    "    \n",
    "    plt.tight_layout()\n",
    "    plt.show()\n",
    "\n",
    "def plot_confusion_matrices(results):\n",
    "    \"\"\"Plot confusion matrices for each optimizer\"\"\"\n",
    "    plt.figure(figsize=(20, 6))\n",
    "    \n",
    "    for i, (opt_name, result) in enumerate(results.items()):\n",
    "        plt.subplot(1, 3, i+1)\n",
    "        sns.heatmap(result['confusion_matrix'], \n",
    "                   annot=True, \n",
    "                   fmt='d', \n",
    "                   cmap='Blues')\n",
    "        plt.title(f'Confusion Matrix - {opt_name}')\n",
    "        plt.xlabel('Predicted')\n",
    "        plt.ylabel('True')\n",
    "    \n",
    "    plt.tight_layout()\n",
    "    plt.show()\n",
    "\n"
   ]
  },
  {
   "cell_type": "markdown",
   "metadata": {},
   "source": [
    "  ## 5. Main Execution\n",
    "\n",
    "\n",
    "\n",
    " This cell orchestrates the entire training process:\n",
    "\n",
    "\n",
    "\n",
    " 1. **Setup Phase**\n",
    "\n",
    "    - Random seed setting\n",
    "\n",
    "    - Device configuration\n",
    "\n",
    "    - DataModule initialization\n",
    "\n",
    "\n",
    "\n",
    " 2. **Training Loop**\n",
    "\n",
    "    - Iterates through different optimizers\n",
    "\n",
    "    - Creates separate checkpoints\n",
    "\n",
    "    - Handles error cases\n",
    "\n",
    "\n",
    "\n",
    " 3. **Results Collection**\n",
    "\n",
    "    - Performance metrics gathering\n",
    "\n",
    "    - Results visualization\n",
    "\n",
    "    - Detailed reporting"
   ]
  },
  {
   "cell_type": "code",
   "execution_count": null,
   "metadata": {},
   "outputs": [
    {
     "name": "stderr",
     "output_type": "stream",
     "text": [
      "Seed set to 42\n",
      "INFO:__main__:Using device: cuda\n",
      "INFO:__main__:Loading data from: C:\\Users\\kresi\\OneDrive\\Desktop\\Turing college\\DL\\Mushroom\\data\n",
      "INFO:improved_mushroom_data_module:DataModule initialized with batch_size: 32, workers: 8\n",
      "INFO:improved_mushroom_data_module:Setting up DataModule for stage: None\n",
      "INFO:improved_mushroom_data_module:Processing genus Agaricus (class 0)\n",
      "INFO:improved_mushroom_data_module:Processing genus Amanita (class 1)\n",
      "INFO:improved_mushroom_data_module:Processing genus Boletus (class 2)\n",
      "INFO:improved_mushroom_data_module:Processing genus Cortinarius (class 3)\n",
      "INFO:improved_mushroom_data_module:Processing genus Entoloma (class 4)\n",
      "INFO:improved_mushroom_data_module:Processing genus Hygrocybe (class 5)\n",
      "INFO:improved_mushroom_data_module:Processing genus Lactarius (class 6)\n",
      "INFO:improved_mushroom_data_module:Processing genus Russula (class 7)\n",
      "INFO:improved_mushroom_data_module:Processing genus Suillus (class 8)\n",
      "INFO:improved_mushroom_data_module:Found 6714 valid images across 9 classes\n",
      "INFO:improved_mushroom_dataset:Dataset initialized with 5371 images\n",
      "INFO:improved_mushroom_dataset:Dataset initialized with 1343 images\n",
      "INFO:improved_mushroom_data_module:Train dataset size: 5371\n",
      "INFO:improved_mushroom_data_module:Val dataset size: 1343\n",
      "INFO:improved_mushroom_data_module:Class weights computed and datasets created successfully\n"
     ]
    },
    {
     "name": "stdout",
     "output_type": "stream",
     "text": [
      "\n",
      "Dataset Information:\n",
      "Number of classes: 9\n",
      "\n",
      "Class weights:\n",
      "Agaricus: 2.1133\n",
      "Amanita: 0.9947\n",
      "Boletus: 0.6952\n",
      "Cortinarius: 0.8923\n",
      "Entoloma: 2.0495\n",
      "Hygrocybe: 2.3608\n",
      "Lactarius: 0.4773\n",
      "Russula: 0.6498\n",
      "Suillus: 2.3987\n",
      "\n",
      "Training with ADAMW optimizer\n",
      "==================================================\n"
     ]
    },
    {
     "name": "stderr",
     "output_type": "stream",
     "text": [
      "GPU available: True (cuda), used: True\n",
      "TPU available: False, using: 0 TPU cores\n",
      "HPU available: False, using: 0 HPUs\n",
      "INFO:improved_mushroom_data_module:Setting up DataModule for stage: fit\n",
      "INFO:improved_mushroom_data_module:Processing genus Agaricus (class 0)\n",
      "INFO:improved_mushroom_data_module:Processing genus Amanita (class 1)\n",
      "INFO:improved_mushroom_data_module:Processing genus Boletus (class 2)\n",
      "INFO:improved_mushroom_data_module:Processing genus Cortinarius (class 3)\n",
      "INFO:improved_mushroom_data_module:Processing genus Entoloma (class 4)\n",
      "INFO:improved_mushroom_data_module:Processing genus Hygrocybe (class 5)\n",
      "INFO:improved_mushroom_data_module:Processing genus Lactarius (class 6)\n",
      "INFO:improved_mushroom_data_module:Processing genus Russula (class 7)\n",
      "INFO:improved_mushroom_data_module:Processing genus Suillus (class 8)\n",
      "INFO:improved_mushroom_data_module:Found 6714 valid images across 9 classes\n",
      "INFO:improved_mushroom_dataset:Dataset initialized with 5371 images\n",
      "INFO:improved_mushroom_dataset:Dataset initialized with 1343 images\n",
      "INFO:improved_mushroom_data_module:Train dataset size: 5371\n",
      "INFO:improved_mushroom_data_module:Val dataset size: 1343\n",
      "INFO:improved_mushroom_data_module:Class weights computed and datasets created successfully\n",
      "LOCAL_RANK: 0 - CUDA_VISIBLE_DEVICES: [0]\n",
      "c:\\Users\\kresi\\AppData\\Local\\Programs\\Python\\Python310\\lib\\site-packages\\torch\\optim\\lr_scheduler.py:62: UserWarning: The verbose parameter is deprecated. Please use get_last_lr() to access the learning rate.\n",
      "  warnings.warn(\n",
      "\n",
      "  | Name             | Type               | Params | Mode \n",
      "----------------------------------------------------------------\n",
      "0 | backbone         | Sequential         | 21.3 M | train\n",
      "1 | intermediate     | Sequential         | 1.1 M  | train\n",
      "2 | special_pathways | ModuleDict         | 263 K  | train\n",
      "3 | classifier       | Linear             | 9.2 K  | train\n",
      "4 | train_acc        | MulticlassAccuracy | 0      | train\n",
      "5 | val_acc          | MulticlassAccuracy | 0      | train\n",
      "6 | class_f1         | MulticlassF1Score  | 0      | train\n",
      "----------------------------------------------------------------\n",
      "22.6 M    Trainable params\n",
      "0         Non-trainable params\n",
      "22.6 M    Total params\n",
      "90.443    Total estimated model params size (MB)\n",
      "140       Modules in train mode\n",
      "0         Modules in eval mode\n"
     ]
    },
    {
     "data": {
      "application/vnd.jupyter.widget-view+json": {
       "model_id": "cd07a709e506450aa129d9bcf84ebdab",
       "version_major": 2,
       "version_minor": 0
      },
      "text/plain": [
       "Training: |          | 0/? [00:00<?, ?it/s]"
      ]
     },
     "metadata": {},
     "output_type": "display_data"
    },
    {
     "data": {
      "application/vnd.jupyter.widget-view+json": {
       "model_id": "41aa7249ce864d75bbf6c54fac345df0",
       "version_major": 2,
       "version_minor": 0
      },
      "text/plain": [
       "Validation: |          | 0/? [00:00<?, ?it/s]"
      ]
     },
     "metadata": {},
     "output_type": "display_data"
    },
    {
     "data": {
      "application/vnd.jupyter.widget-view+json": {
       "model_id": "75f7d84293944c7fbf433928d628b76f",
       "version_major": 2,
       "version_minor": 0
      },
      "text/plain": [
       "Validation: |          | 0/? [00:00<?, ?it/s]"
      ]
     },
     "metadata": {},
     "output_type": "display_data"
    },
    {
     "data": {
      "application/vnd.jupyter.widget-view+json": {
       "model_id": "37628d0b07384ec7baaa96c0f941af80",
       "version_major": 2,
       "version_minor": 0
      },
      "text/plain": [
       "Validation: |          | 0/? [00:00<?, ?it/s]"
      ]
     },
     "metadata": {},
     "output_type": "display_data"
    },
    {
     "data": {
      "application/vnd.jupyter.widget-view+json": {
       "model_id": "a9b3f27250d4416a8f29d31b22380a3a",
       "version_major": 2,
       "version_minor": 0
      },
      "text/plain": [
       "Validation: |          | 0/? [00:00<?, ?it/s]"
      ]
     },
     "metadata": {},
     "output_type": "display_data"
    },
    {
     "data": {
      "application/vnd.jupyter.widget-view+json": {
       "model_id": "bcc73710cc964c01911da80f93806d6e",
       "version_major": 2,
       "version_minor": 0
      },
      "text/plain": [
       "Validation: |          | 0/? [00:00<?, ?it/s]"
      ]
     },
     "metadata": {},
     "output_type": "display_data"
    },
    {
     "data": {
      "application/vnd.jupyter.widget-view+json": {
       "model_id": "eb20fa56848141889726b0e54c750b95",
       "version_major": 2,
       "version_minor": 0
      },
      "text/plain": [
       "Validation: |          | 0/? [00:00<?, ?it/s]"
      ]
     },
     "metadata": {},
     "output_type": "display_data"
    },
    {
     "data": {
      "application/vnd.jupyter.widget-view+json": {
       "model_id": "1013c6e2311b43548981595928d8f307",
       "version_major": 2,
       "version_minor": 0
      },
      "text/plain": [
       "Validation: |          | 0/? [00:00<?, ?it/s]"
      ]
     },
     "metadata": {},
     "output_type": "display_data"
    },
    {
     "data": {
      "application/vnd.jupyter.widget-view+json": {
       "model_id": "3649ed5dda194ad59894c44dbd574661",
       "version_major": 2,
       "version_minor": 0
      },
      "text/plain": [
       "Validation: |          | 0/? [00:00<?, ?it/s]"
      ]
     },
     "metadata": {},
     "output_type": "display_data"
    },
    {
     "data": {
      "application/vnd.jupyter.widget-view+json": {
       "model_id": "ec96d17d704641f1aec79d530702d055",
       "version_major": 2,
       "version_minor": 0
      },
      "text/plain": [
       "Validation: |          | 0/? [00:00<?, ?it/s]"
      ]
     },
     "metadata": {},
     "output_type": "display_data"
    },
    {
     "data": {
      "application/vnd.jupyter.widget-view+json": {
       "model_id": "b92a308a86514cc3a923f487c463210f",
       "version_major": 2,
       "version_minor": 0
      },
      "text/plain": [
       "Validation: |          | 0/? [00:00<?, ?it/s]"
      ]
     },
     "metadata": {},
     "output_type": "display_data"
    },
    {
     "data": {
      "application/vnd.jupyter.widget-view+json": {
       "model_id": "6c3a9801e83d4976870c6882511ad730",
       "version_major": 2,
       "version_minor": 0
      },
      "text/plain": [
       "Validation: |          | 0/? [00:00<?, ?it/s]"
      ]
     },
     "metadata": {},
     "output_type": "display_data"
    },
    {
     "data": {
      "application/vnd.jupyter.widget-view+json": {
       "model_id": "0701cec90b0146f5b7c1dbc53ff1b7b7",
       "version_major": 2,
       "version_minor": 0
      },
      "text/plain": [
       "Validation: |          | 0/? [00:00<?, ?it/s]"
      ]
     },
     "metadata": {},
     "output_type": "display_data"
    },
    {
     "data": {
      "application/vnd.jupyter.widget-view+json": {
       "model_id": "97b805446c60499db554ac1583d9f691",
       "version_major": 2,
       "version_minor": 0
      },
      "text/plain": [
       "Validation: |          | 0/? [00:00<?, ?it/s]"
      ]
     },
     "metadata": {},
     "output_type": "display_data"
    },
    {
     "data": {
      "application/vnd.jupyter.widget-view+json": {
       "model_id": "c7ecbc06ffbd4e4c993fe6f5636ebab1",
       "version_major": 2,
       "version_minor": 0
      },
      "text/plain": [
       "Validation: |          | 0/? [00:00<?, ?it/s]"
      ]
     },
     "metadata": {},
     "output_type": "display_data"
    },
    {
     "data": {
      "application/vnd.jupyter.widget-view+json": {
       "model_id": "e33edb5e0fba44429328f57f4a7e2f1c",
       "version_major": 2,
       "version_minor": 0
      },
      "text/plain": [
       "Validation: |          | 0/? [00:00<?, ?it/s]"
      ]
     },
     "metadata": {},
     "output_type": "display_data"
    },
    {
     "data": {
      "application/vnd.jupyter.widget-view+json": {
       "model_id": "312449437d8642738962f2afbd3e9601",
       "version_major": 2,
       "version_minor": 0
      },
      "text/plain": [
       "Validation: |          | 0/? [00:00<?, ?it/s]"
      ]
     },
     "metadata": {},
     "output_type": "display_data"
    },
    {
     "data": {
      "application/vnd.jupyter.widget-view+json": {
       "model_id": "c9acfb0c011548e88a691ecb51f9ac6b",
       "version_major": 2,
       "version_minor": 0
      },
      "text/plain": [
       "Validation: |          | 0/? [00:00<?, ?it/s]"
      ]
     },
     "metadata": {},
     "output_type": "display_data"
    },
    {
     "data": {
      "application/vnd.jupyter.widget-view+json": {
       "model_id": "9ceb20fac0344b9095344ad305f3d6e8",
       "version_major": 2,
       "version_minor": 0
      },
      "text/plain": [
       "Validation: |          | 0/? [00:00<?, ?it/s]"
      ]
     },
     "metadata": {},
     "output_type": "display_data"
    },
    {
     "data": {
      "application/vnd.jupyter.widget-view+json": {
       "model_id": "85e48832fcdc482cb48916601f472bdc",
       "version_major": 2,
       "version_minor": 0
      },
      "text/plain": [
       "Validation: |          | 0/? [00:00<?, ?it/s]"
      ]
     },
     "metadata": {},
     "output_type": "display_data"
    },
    {
     "data": {
      "application/vnd.jupyter.widget-view+json": {
       "model_id": "22155e3dbaf84ee0a69e2c402468b176",
       "version_major": 2,
       "version_minor": 0
      },
      "text/plain": [
       "Validation: |          | 0/? [00:00<?, ?it/s]"
      ]
     },
     "metadata": {},
     "output_type": "display_data"
    },
    {
     "data": {
      "application/vnd.jupyter.widget-view+json": {
       "model_id": "563e96d37e4948cd9830bc13428ec043",
       "version_major": 2,
       "version_minor": 0
      },
      "text/plain": [
       "Validation: |          | 0/? [00:00<?, ?it/s]"
      ]
     },
     "metadata": {},
     "output_type": "display_data"
    },
    {
     "data": {
      "application/vnd.jupyter.widget-view+json": {
       "model_id": "20bcde29875b4288a2f0a75e6d376ba5",
       "version_major": 2,
       "version_minor": 0
      },
      "text/plain": [
       "Validation: |          | 0/? [00:00<?, ?it/s]"
      ]
     },
     "metadata": {},
     "output_type": "display_data"
    },
    {
     "data": {
      "application/vnd.jupyter.widget-view+json": {
       "model_id": "e397ba86ae9c436ba88aff90bb056f2c",
       "version_major": 2,
       "version_minor": 0
      },
      "text/plain": [
       "Validation: |          | 0/? [00:00<?, ?it/s]"
      ]
     },
     "metadata": {},
     "output_type": "display_data"
    },
    {
     "data": {
      "application/vnd.jupyter.widget-view+json": {
       "model_id": "12e7c42464eb47ad875575180f877f1f",
       "version_major": 2,
       "version_minor": 0
      },
      "text/plain": [
       "Validation: |          | 0/? [00:00<?, ?it/s]"
      ]
     },
     "metadata": {},
     "output_type": "display_data"
    },
    {
     "data": {
      "application/vnd.jupyter.widget-view+json": {
       "model_id": "c805ed555ca44d3f8a69754162dccaf9",
       "version_major": 2,
       "version_minor": 0
      },
      "text/plain": [
       "Validation: |          | 0/? [00:00<?, ?it/s]"
      ]
     },
     "metadata": {},
     "output_type": "display_data"
    },
    {
     "data": {
      "application/vnd.jupyter.widget-view+json": {
       "model_id": "864428ba9f8a4a49bdce41d2e94a04b9",
       "version_major": 2,
       "version_minor": 0
      },
      "text/plain": [
       "Validation: |          | 0/? [00:00<?, ?it/s]"
      ]
     },
     "metadata": {},
     "output_type": "display_data"
    },
    {
     "data": {
      "application/vnd.jupyter.widget-view+json": {
       "model_id": "d717ba8dee1343ac9ddde7827001bf1a",
       "version_major": 2,
       "version_minor": 0
      },
      "text/plain": [
       "Validation: |          | 0/? [00:00<?, ?it/s]"
      ]
     },
     "metadata": {},
     "output_type": "display_data"
    },
    {
     "data": {
      "application/vnd.jupyter.widget-view+json": {
       "model_id": "e59759ab46224edaabbed4ba012e0022",
       "version_major": 2,
       "version_minor": 0
      },
      "text/plain": [
       "Validation: |          | 0/? [00:00<?, ?it/s]"
      ]
     },
     "metadata": {},
     "output_type": "display_data"
    },
    {
     "data": {
      "application/vnd.jupyter.widget-view+json": {
       "model_id": "b64f1f150c7a4fb4b16f105adbb2be5a",
       "version_major": 2,
       "version_minor": 0
      },
      "text/plain": [
       "Validation: |          | 0/? [00:00<?, ?it/s]"
      ]
     },
     "metadata": {},
     "output_type": "display_data"
    },
    {
     "data": {
      "application/vnd.jupyter.widget-view+json": {
       "model_id": "d335fa0199f94e3a884bcd428a259eef",
       "version_major": 2,
       "version_minor": 0
      },
      "text/plain": [
       "Validation: |          | 0/? [00:00<?, ?it/s]"
      ]
     },
     "metadata": {},
     "output_type": "display_data"
    },
    {
     "name": "stderr",
     "output_type": "stream",
     "text": [
      "`Trainer.fit` stopped: `max_epochs=30` reached.\n"
     ]
    },
    {
     "name": "stdout",
     "output_type": "stream",
     "text": [
      "\n",
      "Total Inference Time: 43.1902 seconds\n",
      "Average Inference Time per Image: 32.1595 ms\n",
      "\n",
      "Intermediate Results for ADAMW:\n",
      "Accuracy: 0.8861\n",
      "Suillus F1-Score: 0.7500\n",
      "Total Inference Time: 43.1902 seconds\n",
      "Average Inference Time per Image: 32.1595 ms\n",
      "\n",
      "Training with SGD_NESTEROV optimizer\n",
      "==================================================\n"
     ]
    },
    {
     "name": "stderr",
     "output_type": "stream",
     "text": [
      "Trainer already configured with model summary callbacks: [<class 'pytorch_lightning.callbacks.model_summary.ModelSummary'>]. Skipping setting a default `ModelSummary` callback.\n",
      "GPU available: True (cuda), used: True\n",
      "TPU available: False, using: 0 TPU cores\n",
      "HPU available: False, using: 0 HPUs\n",
      "INFO:improved_mushroom_data_module:Setting up DataModule for stage: fit\n",
      "INFO:improved_mushroom_data_module:Processing genus Agaricus (class 0)\n",
      "INFO:improved_mushroom_data_module:Processing genus Amanita (class 1)\n",
      "INFO:improved_mushroom_data_module:Processing genus Boletus (class 2)\n",
      "INFO:improved_mushroom_data_module:Processing genus Cortinarius (class 3)\n",
      "INFO:improved_mushroom_data_module:Processing genus Entoloma (class 4)\n",
      "INFO:improved_mushroom_data_module:Processing genus Hygrocybe (class 5)\n",
      "INFO:improved_mushroom_data_module:Processing genus Lactarius (class 6)\n",
      "INFO:improved_mushroom_data_module:Processing genus Russula (class 7)\n",
      "INFO:improved_mushroom_data_module:Processing genus Suillus (class 8)\n",
      "INFO:improved_mushroom_data_module:Found 6714 valid images across 9 classes\n",
      "INFO:improved_mushroom_dataset:Dataset initialized with 5371 images\n",
      "INFO:improved_mushroom_dataset:Dataset initialized with 1343 images\n",
      "INFO:improved_mushroom_data_module:Train dataset size: 5371\n",
      "INFO:improved_mushroom_data_module:Val dataset size: 1343\n",
      "INFO:improved_mushroom_data_module:Class weights computed and datasets created successfully\n",
      "LOCAL_RANK: 0 - CUDA_VISIBLE_DEVICES: [0]\n",
      "c:\\Users\\kresi\\AppData\\Local\\Programs\\Python\\Python310\\lib\\site-packages\\torch\\optim\\lr_scheduler.py:62: UserWarning: The verbose parameter is deprecated. Please use get_last_lr() to access the learning rate.\n",
      "  warnings.warn(\n",
      "\n",
      "  | Name             | Type               | Params | Mode \n",
      "----------------------------------------------------------------\n",
      "0 | backbone         | Sequential         | 21.3 M | train\n",
      "1 | intermediate     | Sequential         | 1.1 M  | train\n",
      "2 | special_pathways | ModuleDict         | 263 K  | train\n",
      "3 | classifier       | Linear             | 9.2 K  | train\n",
      "4 | train_acc        | MulticlassAccuracy | 0      | train\n",
      "5 | val_acc          | MulticlassAccuracy | 0      | train\n",
      "6 | class_f1         | MulticlassF1Score  | 0      | train\n",
      "----------------------------------------------------------------\n",
      "22.6 M    Trainable params\n",
      "0         Non-trainable params\n",
      "22.6 M    Total params\n",
      "90.443    Total estimated model params size (MB)\n",
      "140       Modules in train mode\n",
      "0         Modules in eval mode\n"
     ]
    },
    {
     "data": {
      "application/vnd.jupyter.widget-view+json": {
       "model_id": "708322cd90b34bffb7ec72e81458a9c4",
       "version_major": 2,
       "version_minor": 0
      },
      "text/plain": [
       "Training: |          | 0/? [00:00<?, ?it/s]"
      ]
     },
     "metadata": {},
     "output_type": "display_data"
    },
    {
     "data": {
      "application/vnd.jupyter.widget-view+json": {
       "model_id": "2c92107acacc4a73886e46122e543ecd",
       "version_major": 2,
       "version_minor": 0
      },
      "text/plain": [
       "Validation: |          | 0/? [00:00<?, ?it/s]"
      ]
     },
     "metadata": {},
     "output_type": "display_data"
    },
    {
     "name": "stdout",
     "output_type": "stream",
     "text": [
      "\n",
      "Total Inference Time: 41.0572 seconds\n",
      "Average Inference Time per Image: 30.5713 ms\n",
      "\n",
      "Intermediate Results for SGD_NESTEROV:\n",
      "Accuracy: 0.2971\n",
      "Suillus F1-Score: 0.1308\n",
      "Total Inference Time: 41.0572 seconds\n",
      "Average Inference Time per Image: 30.5713 ms\n",
      "\n",
      "Training with RADAM optimizer\n",
      "==================================================\n"
     ]
    },
    {
     "name": "stderr",
     "output_type": "stream",
     "text": [
      "Trainer already configured with model summary callbacks: [<class 'pytorch_lightning.callbacks.model_summary.ModelSummary'>]. Skipping setting a default `ModelSummary` callback.\n",
      "GPU available: True (cuda), used: True\n",
      "TPU available: False, using: 0 TPU cores\n",
      "HPU available: False, using: 0 HPUs\n",
      "INFO:improved_mushroom_data_module:Setting up DataModule for stage: fit\n",
      "INFO:improved_mushroom_data_module:Processing genus Agaricus (class 0)\n",
      "INFO:improved_mushroom_data_module:Processing genus Amanita (class 1)\n",
      "INFO:improved_mushroom_data_module:Processing genus Boletus (class 2)\n",
      "INFO:improved_mushroom_data_module:Processing genus Cortinarius (class 3)\n",
      "INFO:improved_mushroom_data_module:Processing genus Entoloma (class 4)\n",
      "INFO:improved_mushroom_data_module:Processing genus Hygrocybe (class 5)\n",
      "INFO:improved_mushroom_data_module:Processing genus Lactarius (class 6)\n",
      "INFO:improved_mushroom_data_module:Processing genus Russula (class 7)\n",
      "INFO:improved_mushroom_data_module:Processing genus Suillus (class 8)\n",
      "INFO:improved_mushroom_data_module:Found 6714 valid images across 9 classes\n",
      "INFO:improved_mushroom_dataset:Dataset initialized with 5371 images\n",
      "INFO:improved_mushroom_dataset:Dataset initialized with 1343 images\n",
      "INFO:improved_mushroom_data_module:Train dataset size: 5371\n",
      "INFO:improved_mushroom_data_module:Val dataset size: 1343\n",
      "INFO:improved_mushroom_data_module:Class weights computed and datasets created successfully\n",
      "LOCAL_RANK: 0 - CUDA_VISIBLE_DEVICES: [0]\n",
      "c:\\Users\\kresi\\AppData\\Local\\Programs\\Python\\Python310\\lib\\site-packages\\torch\\optim\\lr_scheduler.py:62: UserWarning: The verbose parameter is deprecated. Please use get_last_lr() to access the learning rate.\n",
      "  warnings.warn(\n",
      "\n",
      "  | Name             | Type               | Params | Mode \n",
      "----------------------------------------------------------------\n",
      "0 | backbone         | Sequential         | 21.3 M | train\n",
      "1 | intermediate     | Sequential         | 1.1 M  | train\n",
      "2 | special_pathways | ModuleDict         | 263 K  | train\n",
      "3 | classifier       | Linear             | 9.2 K  | train\n",
      "4 | train_acc        | MulticlassAccuracy | 0      | train\n",
      "5 | val_acc          | MulticlassAccuracy | 0      | train\n",
      "6 | class_f1         | MulticlassF1Score  | 0      | train\n",
      "----------------------------------------------------------------\n",
      "22.6 M    Trainable params\n",
      "0         Non-trainable params\n",
      "22.6 M    Total params\n",
      "90.443    Total estimated model params size (MB)\n",
      "140       Modules in train mode\n",
      "0         Modules in eval mode\n"
     ]
    },
    {
     "data": {
      "application/vnd.jupyter.widget-view+json": {
       "model_id": "cce95dbb46f845589a591b8291b58a27",
       "version_major": 2,
       "version_minor": 0
      },
      "text/plain": [
       "Training: |          | 0/? [00:00<?, ?it/s]"
      ]
     },
     "metadata": {},
     "output_type": "display_data"
    },
    {
     "data": {
      "application/vnd.jupyter.widget-view+json": {
       "model_id": "39ec19ddccd5489c84d6abc84cd68605",
       "version_major": 2,
       "version_minor": 0
      },
      "text/plain": [
       "Validation: |          | 0/? [00:00<?, ?it/s]"
      ]
     },
     "metadata": {},
     "output_type": "display_data"
    },
    {
     "name": "stdout",
     "output_type": "stream",
     "text": [
      "\n",
      "Total Inference Time: 40.8411 seconds\n",
      "Average Inference Time per Image: 30.4104 ms\n",
      "\n",
      "Intermediate Results for RADAM:\n",
      "Accuracy: 0.2941\n",
      "Suillus F1-Score: 0.1667\n",
      "Total Inference Time: 40.8411 seconds\n",
      "Average Inference Time per Image: 30.4104 ms\n"
     ]
    },
    {
     "data": {
      "image/png": "[encoded data removed]",
      "text/plain": [
       "<Figure size 2000x500 with 3 Axes>"
      ]
     },
     "metadata": {},
     "output_type": "display_data"
    },
    {
     "data": {
      "image/png": "[encoded data removed]",
      "text/plain": [
       "<Figure size 2000x600 with 6 Axes>"
      ]
     },
     "metadata": {},
     "output_type": "display_data"
    },
    {
     "name": "stdout",
     "output_type": "stream",
     "text": [
      "\n",
      "Detailed Results Summary\n",
      "==================================================\n",
      "\n",
      "Results for ADAMW optimizer:\n",
      "----------------------------------------\n",
      "Overall Accuracy: 0.8861\n",
      "\n",
      "Class-wise Performance:\n",
      "Agaricus        F1-Score: 0.8571 Precision: 0.8182 Recall: 0.9000\n",
      "Amanita         F1-Score: 0.8963 Precision: 0.8993 Recall: 0.8933\n",
      "Boletus         F1-Score: 0.9459 Precision: 0.9571 Recall: 0.9349\n",
      "Cortinarius     F1-Score: 0.8746 Precision: 0.8938 Recall: 0.8563\n",
      "Entoloma        F1-Score: 0.8408 Precision: 0.7857 Recall: 0.9041\n",
      "Hygrocybe       F1-Score: 0.9048 Precision: 0.9048 Recall: 0.9048\n",
      "Lactarius       F1-Score: 0.9041 Precision: 0.9205 Recall: 0.8882\n",
      "Russula         F1-Score: 0.8678 Precision: 0.8795 Recall: 0.8565\n",
      "Suillus         F1-Score: 0.7500 Precision: 0.6892 Recall: 0.8226\n",
      "\n",
      "Results for SGD_NESTEROV optimizer:\n",
      "----------------------------------------\n",
      "Overall Accuracy: 0.2971\n",
      "\n",
      "Class-wise Performance:\n",
      "Agaricus        F1-Score: 0.1000 Precision: 0.1667 Recall: 0.0714\n",
      "Amanita         F1-Score: 0.3417 Precision: 0.2947 Recall: 0.4067\n",
      "Boletus         F1-Score: 0.5079 Precision: 0.4956 Recall: 0.5209\n",
      "Cortinarius     F1-Score: 0.2609 Precision: 0.1994 Recall: 0.3772\n",
      "Entoloma        F1-Score: 0.1758 Precision: 0.1468 Recall: 0.2192\n",
      "Hygrocybe       F1-Score: 0.2804 Precision: 0.3409 Recall: 0.2381\n",
      "Lactarius       F1-Score: 0.3515 Precision: 0.4780 Recall: 0.2780\n",
      "Russula         F1-Score: 0.1694 Precision: 0.3377 Recall: 0.1130\n",
      "Suillus         F1-Score: 0.1308 Precision: 0.0921 Recall: 0.2258\n",
      "\n",
      "Results for RADAM optimizer:\n",
      "----------------------------------------\n",
      "Overall Accuracy: 0.2941\n",
      "\n",
      "Class-wise Performance:\n",
      "Agaricus        F1-Score: 0.1776 Precision: 0.1154 Recall: 0.3857\n",
      "Amanita         F1-Score: 0.3387 Precision: 0.3252 Recall: 0.3533\n",
      "Boletus         F1-Score: 0.4253 Precision: 0.4667 Recall: 0.3907\n",
      "Cortinarius     F1-Score: 0.1562 Precision: 0.2247 Recall: 0.1198\n",
      "Entoloma        F1-Score: 0.2346 Precision: 0.2135 Recall: 0.2603\n",
      "Hygrocybe       F1-Score: 0.4598 Precision: 0.3604 Recall: 0.6349\n",
      "Lactarius       F1-Score: 0.3980 Precision: 0.4175 Recall: 0.3802\n",
      "Russula         F1-Score: 0.1184 Precision: 0.2432 Recall: 0.0783\n",
      "Suillus         F1-Score: 0.1667 Precision: 0.1271 Recall: 0.2419\n"
     ]
    }
   ],
   "source": [
    "if __name__ == \"__main__\":\n",
    "    try:\n",
    "        pl.seed_everything(42)\n",
    "        Config.DEVICE = torch.device(\"cuda\" if torch.cuda.is_available() else \"cpu\")\n",
    "        \n",
    "        logger.info(f\"Using device: {Config.DEVICE}\")\n",
    "        logger.info(f\"Loading data from: {Config.DATA_PATH}\")\n",
    "        \n",
    "        data_module = MushroomDataModule(\n",
    "            Config.DATA_PATH,\n",
    "            batch_size=Config.BATCH_SIZE,\n",
    "            train_transforms=train_transforms,\n",
    "            val_transforms=val_transforms\n",
    "        )\n",
    "        data_module.setup()\n",
    "        \n",
    "        print(\"\\nDataset Information:\")\n",
    "        print(f\"Number of classes: {len(data_module.class_to_idx)}\")\n",
    "        print(\"\\nClass weights:\")\n",
    "        for cls, weight in zip(data_module.class_to_idx.keys(), data_module.class_weights):\n",
    "            print(f\"{cls}: {weight:.4f}\")\n",
    "        \n",
    "        trainer_kwargs = {\n",
    "            'max_epochs': Config.EPOCHS,\n",
    "            'accelerator': 'gpu' if torch.cuda.is_available() else 'cpu',\n",
    "            'devices': 1,\n",
    "            'callbacks': [\n",
    "                EarlyStopping(\n",
    "                    monitor='val_loss', \n",
    "                    patience=Config.EARLY_STOPPING_PATIENCE,\n",
    "                    mode='min'\n",
    "                ),\n",
    "                ModelCheckpoint(\n",
    "                    monitor='val_loss',\n",
    "                    dirpath=str(checkpoint_dir),\n",
    "                    filename='model-{epoch:02d}-{val_loss:.2f}',\n",
    "                    save_top_k=1,\n",
    "                    mode='min',\n",
    "                    verbose=False\n",
    "                )\n",
    "            ],\n",
    "            'enable_progress_bar': True,\n",
    "            'num_sanity_val_steps': 0,  # Disable sanity check for Windows compatibility\n",
    "            'deterministic': True  # Ensure reproducibility\n",
    "        }\n",
    "        \n",
    "        results = {}\n",
    "        optimizers = ['adamw', 'sgd_nesterov', 'radam']\n",
    "        \n",
    "        for opt_name in optimizers:\n",
    "            print(f\"\\nTraining with {opt_name.upper()} optimizer\")\n",
    "            print(\"=\"*50)\n",
    "            \n",
    "            opt_checkpoint_dir = checkpoint_dir / opt_name\n",
    "            opt_checkpoint_dir.mkdir(exist_ok=True)\n",
    "            \n",
    "            trainer_kwargs['callbacks'][1].dirpath = str(opt_checkpoint_dir)\n",
    "            \n",
    "            try:\n",
    "                model = EnhancedMushroomClassifier(\n",
    "                    class_weights=data_module.class_weights,\n",
    "                    optimizer_name=opt_name\n",
    "                )\n",
    "                \n",
    "                trainer = pl.Trainer(**trainer_kwargs)\n",
    "                trainer.fit(model, data_module)\n",
    "                \n",
    "                results[opt_name] = evaluate_model(model, data_module)\n",
    "                \n",
    "                total_inference_time = results[opt_name]['total_inference_time']\n",
    "                avg_inference_time = results[opt_name]['avg_inference_time_per_image']\n",
    "                \n",
    "                print(f\"\\nIntermediate Results for {opt_name.upper()}:\")\n",
    "                print(f\"Accuracy: {results[opt_name]['classification_report']['accuracy']:.4f}\")\n",
    "                print(f\"Suillus F1-Score: {results[opt_name]['classification_report']['Suillus']['f1-score']:.4f}\")\n",
    "                print(f\"Total Inference Time: {total_inference_time:.4f} seconds\")\n",
    "                print(f\"Average Inference Time per Image: {avg_inference_time * 1000:.4f} ms\")\n",
    "                \n",
    "                with open(opt_checkpoint_dir / 'model_summary.txt', 'w') as f:\n",
    "                    f.write(f\"Model Performance Summary - {opt_name}\\n\")\n",
    "                    f.write(\"=\"*50 + \"\\n\")\n",
    "                    f.write(f\"Accuracy: {results[opt_name]['classification_report']['accuracy']:.4f}\\n\")\n",
    "                    f.write(f\"Total Inference Time: {total_inference_time:.4f} seconds\\n\")\n",
    "                    f.write(f\"Average Inference Time per Image: {avg_inference_time * 1000:.4f} ms\\n\")\n",
    "                    f.write(\"\\nClass-wise Performance:\\n\")\n",
    "                    for class_name, metrics in results[opt_name]['classification_report'].items():\n",
    "                        if isinstance(metrics, dict):\n",
    "                            f.write(f\"{class_name:15} \"\n",
    "                                    f\"F1-Score: {metrics['f1-score']:.4f} \"\n",
    "                                    f\"Precision: {metrics['precision']:.4f} \"\n",
    "                                    f\"Recall: {metrics['recall']:.4f}\\n\")\n",
    "                \n",
    "            except Exception as e:\n",
    "                logger.error(f\"Error during training with {opt_name}: {str(e)}\")\n",
    "                continue\n",
    "        \n",
    "        if results:\n",
    "            plot_results(results)\n",
    "            plot_confusion_matrices(results)\n",
    "            \n",
    "            print(\"\\nDetailed Results Summary\")\n",
    "            print(\"=\"*50)\n",
    "            \n",
    "            for opt_name, result in results.items():\n",
    "                print(f\"\\nResults for {opt_name.upper()} optimizer:\")\n",
    "                print(\"-\"*40)\n",
    "                report = result['classification_report']\n",
    "                \n",
    "                print(f\"Overall Accuracy: {report['accuracy']:.4f}\")\n",
    "                print(\"\\nClass-wise Performance:\")\n",
    "                for class_name in data_module.class_to_idx.keys():\n",
    "                    metrics = report[class_name]\n",
    "                    print(f\"{class_name:15} \"\n",
    "                          f\"F1-Score: {metrics['f1-score']:.4f} \"\n",
    "                          f\"Precision: {metrics['precision']:.4f} \"\n",
    "                          f\"Recall: {metrics['recall']:.4f}\")\n",
    "    \n",
    "    except Exception as e:\n",
    "        logger.error(f\"Error in main execution: {str(e)}\")\n",
    "        raise\n",
    "\n"
   ]
  },
  {
   "cell_type": "markdown",
   "metadata": {},
   "source": [
    "  ## 6. Results Analysis\n",
    "\n",
    "\n",
    "\n",
    " The intermediate layers proved beneficial, especially when combined with AdamW optimizer. While the improvement in overall accuracy was modest (0.61%), the real value came in:\n",
    "\n",
    "\n",
    "\n",
    " - Better class separation\n",
    "\n",
    " - More stable training\n",
    "\n",
    " - Improved handling of difficult classes\n",
    "\n",
    " - Better feature representation\n",
    "\n",
    "\n",
    "\n",
    " The architecture shows promise but could potentially benefit from further tuning, especially for the struggling classes like Suillus.\n",
    "\n",
    "\n",
    "\n",
    " **Key Findings**:\n",
    "\n",
    "\n",
    "\n",
    " 1. **Best Performing Optimizer: AdamW**\n",
    "\n",
    " - Highest overall accuracy at 88.61%\n",
    "\n",
    " - Best Suillus F1-score at 0.75\n",
    "\n",
    " - Strong performance across all classes\n",
    "\n",
    " - Particularly good at handling:\n",
    "\n",
    "   - Boletus (F1: 0.9459)\n",
    "\n",
    "   - Lactarius (F1: 0.9041)\n",
    "\n",
    "   - Amanita (F1: 0.8963)\n",
    "\n",
    "\n",
    "\n",
    " 2. **Poor Performance of Alternative Optimizers**\n",
    "\n",
    " - SGD with Nesterov momentum:\n",
    "\n",
    "   - Low accuracy (29.71%)\n",
    "\n",
    "   - Poor Suillus F1-score (0.1308)\n",
    "\n",
    "   - Struggled with most classes\n",
    "\n",
    " - RAdam:\n",
    "\n",
    "   - Similarly low accuracy (29.41%)\n",
    "\n",
    "   - Slightly better Suillus F1-score (0.1667)\n",
    "\n",
    "   - Best performance on Hygrocybe (F1: 0.4598)\n",
    "\n",
    "\n",
    "\n",
    " 3. **Class-wise Analysis (AdamW)**\n",
    "\n",
    " - Strongest Classifications:\n",
    "\n",
    "   - Boletus (F1: 0.9459, Precision: 0.9571, Recall: 0.9349)\n",
    "\n",
    "   - Lactarius (F1: 0.9041, Precision: 0.9205, Recall: 0.8882)\n",
    "\n",
    "   - Hygrocybe (F1: 0.9048, both Precision and Recall: 0.9048)\n",
    "\n",
    " - Areas for Improvement:\n",
    "\n",
    "   - Suillus (F1: 0.7500) - still the weakest class despite improvements\n",
    "\n",
    "   - Entoloma (F1: 0.8408) - lower precision (0.7857)\n",
    "\n",
    "\n",
    "\n",
    " 4. **Improvements Over Previous Model**\n",
    "\n",
    " - Overall accuracy increased from 88% to 88.61%\n",
    "\n",
    " - Suillus F1-score improved from 0.73 to 0.75\n",
    "\n",
    " - Better handling of Lactarius-Russula confusion (both showing F1-scores > 0.86)\n",
    "\n",
    "\n",
    "\n",
    " Recommendations:\n",
    "\n",
    "\n",
    "\n",
    " 1. **Optimizer Selection**\n",
    "\n",
    " - Clearly stick with AdamW for this specific task\n",
    "\n",
    " - The significant performance gap suggests AdamW handles the complex architecture better\n",
    "\n",
    "\n",
    "\n",
    " 2. **Further Improvements**\n",
    "\n",
    " - Additional focused augmentation for Suillus class\n",
    "\n",
    " - Experiment with architecture modifications specifically for Entoloma precision\n",
    "\n",
    " - Maybe trying ensemble methods combining AdamW-trained models"
   ]
  }
 ],
 "metadata": {
  "kernelspec": {
   "display_name": "Python 3",
   "language": "python",
   "name": "python3"
  },
  "language_info": {
   "codemirror_mode": {
    "name": "ipython",
    "version": 3
   },
   "file_extension": ".py",
   "mimetype": "text/x-python",
   "name": "python",
   "nbconvert_exporter": "python",
   "pygments_lexer": "ipython3",
   "version": "3.10.0rc2"
  }
 },
 "nbformat": 4,
 "nbformat_minor": 2
}
