{
 "cells": [
  {
   "cell_type": "markdown",
   "metadata": {},
   "source": [
    " # 🍄 Mushroom Classification Project\n",
    "\n",
    "\n",
    "\n",
    " ## Project Overview\n",
    "\n",
    "\n",
    "\n",
    " Building a machine learning model to help prevent mushroom poisoning incidents through accurate species identification.\n",
    "\n",
    "\n",
    "\n",
    " **Key Facts:**\n",
    "\n",
    "\n",
    "\n",
    " - ~7,500 yearly mushroom poisoning cases in the US\n",
    "\n",
    " - Main cause: misidentification of edible species\n",
    "\n",
    " - Goal: Create model to assist in safe mushroom identification"
   ]
  },
  {
   "cell_type": "markdown",
   "metadata": {},
   "source": [
    " ## 1. Setup and Imports"
   ]
  },
  {
   "cell_type": "code",
   "execution_count": 1,
   "metadata": {},
   "outputs": [
    {
     "name": "stderr",
     "output_type": "stream",
     "text": [
      "c:\\Users\\kresi\\AppData\\Local\\Programs\\Python\\Python310\\lib\\site-packages\\albumentations\\__init__.py:24: UserWarning: A new version of Albumentations is available: 1.4.21 (you have 1.4.20). Upgrade using: pip install -U albumentations. To disable automatic update checks, set the environment variable NO_ALBUMENTATIONS_UPDATE to 1.\n",
      "  check_for_updates()\n"
     ]
    }
   ],
   "source": [
    "import os\n",
    "import time\n",
    "from pathlib import Path\n",
    "import numpy as np\n",
    "import pandas as pd\n",
    "import matplotlib.pyplot as plt\n",
    "import seaborn as sns\n",
    "import cv2\n",
    "\n",
    "import torch\n",
    "import torch.nn as nn\n",
    "import torch.nn.functional as F\n",
    "from torch.utils.data import DataLoader, Dataset\n",
    "from torchvision import transforms, models\n",
    "from torchvision.models import ResNet34_Weights\n",
    "import pytorch_lightning as pl\n",
    "from pytorch_lightning.callbacks import ModelCheckpoint, EarlyStopping\n",
    "import torchmetrics\n",
    "\n",
    "import albumentations as A\n",
    "from albumentations.pytorch import ToTensorV2\n",
    "\n",
    "from sklearn.model_selection import train_test_split\n",
    "from sklearn.metrics import confusion_matrix, classification_report\n",
    "\n",
    "import logging\n",
    "\n",
    "logging.basicConfig(level=logging.INFO)\n",
    "logger = logging.getLogger(__name__)\n",
    "\n",
    "from config import Config\n",
    "from mushroom_dataset import MushroomDataset\n",
    "from mushroom_data_module import MushroomDataModule\n",
    "\n",
    "import multiprocessing\n"
   ]
  },
  {
   "cell_type": "markdown",
   "metadata": {},
   "source": [
    " ## 3. Data Transforms"
   ]
  },
  {
   "cell_type": "markdown",
   "metadata": {},
   "source": [
    "Training transforms include:\n",
    "- Resizing images to consistent dimensions\n",
    "- Various augmentations (flips, rotations, brightness/contrast adjustments)\n",
    "- Color transformations\n",
    "- Random cropping\n",
    "- Normalization using ImageNet statistics\n",
    "- Conversion to PyTorch tensors\n",
    "\n",
    "Validation transforms are simpler:\n",
    "- Only resize and normalize (no augmentation needed for validation)"
   ]
  },
  {
   "cell_type": "code",
   "execution_count": 2,
   "metadata": {},
   "outputs": [
    {
     "name": "stderr",
     "output_type": "stream",
     "text": [
      "INFO:mushroom_data_module:DataModule initialized with batch_size: 32, workers: 4\n"
     ]
    }
   ],
   "source": [
    "train_transforms = A.Compose([\n",
    "    A.Resize(Config.IMG_SIZE, Config.IMG_SIZE),\n",
    "    A.HorizontalFlip(p=0.5),\n",
    "    A.VerticalFlip(p=0.5),\n",
    "    A.RandomRotate90(p=0.5),\n",
    "    A.Rotate(limit=30, p=0.5),\n",
    "    A.RandomBrightnessContrast(p=0.5),\n",
    "    A.ColorJitter(p=0.5),\n",
    "    A.HueSaturationValue(p=0.5),\n",
    "    A.RandomResizedCrop(Config.IMG_SIZE, Config.IMG_SIZE, scale=(0.8, 1.0), ratio=(0.9, 1.1), p=0.5),\n",
    "    A.Normalize(mean=[0.485, 0.456, 0.406],\n",
    "                std=[0.229, 0.224, 0.225]),\n",
    "    ToTensorV2()\n",
    "])\n",
    "\n",
    "val_transforms = A.Compose([\n",
    "    A.Resize(Config.IMG_SIZE, Config.IMG_SIZE),\n",
    "    A.Normalize(mean=[0.485, 0.456, 0.406],\n",
    "                std=[0.229, 0.224, 0.225]),\n",
    "    ToTensorV2()\n",
    "])\n"
   ]
  },
  {
   "cell_type": "markdown",
   "metadata": {},
   "source": [
    " ## 6. Model"
   ]
  },
  {
   "cell_type": "markdown",
   "metadata": {},
   "source": [
    "The MushroomClassifier class defines the neural network:\n",
    "- Uses ResNet34 as the backbone with pretrained weights\n",
    "- Implements fine-tuning strategy:\n",
    "  - Freezes early layers (transfer learning)\n",
    "  - Only trains last two layers and classifier\n",
    "- Includes custom training and validation steps\n",
    "- Uses weighted loss function to handle class imbalance\n",
    "- Implements accuracy metrics for both training and validation\n",
    "- Uses AdamW optimizer with weight decay\n",
    "- Implements learning rate scheduling with ReduceLROnPlateau"
   ]
  },
  {
   "cell_type": "code",
   "execution_count": null,
   "metadata": {},
   "outputs": [],
   "source": [
    "class MushroomClassifier(pl.LightningModule):\n",
    "    def __init__(self, num_classes=9, learning_rate=1e-4, class_weights=None):\n",
    "        super().__init__()\n",
    "\n",
    "        self.num_classes = num_classes\n",
    "        self.learning_rate = learning_rate\n",
    "        self.class_weights = class_weights\n",
    "\n",
    "        self.model = models.resnet34(weights=ResNet34_Weights.DEFAULT)\n",
    "\n",
    "        for name, param in self.model.named_parameters():\n",
    "            if \"layer3\" in name or \"layer4\" in name or \"fc\" in name:\n",
    "                param.requires_grad = True\n",
    "            else:\n",
    "                param.requires_grad = False\n",
    "\n",
    "        in_features = self.model.fc.in_features\n",
    "        self.model.fc = nn.Linear(in_features, self.num_classes)\n",
    "\n",
    "        self.train_acc = torchmetrics.Accuracy(task=\"multiclass\", num_classes=self.num_classes)\n",
    "        self.val_acc = torchmetrics.Accuracy(task=\"multiclass\", num_classes=self.num_classes)\n",
    "\n",
    "        self.save_hyperparameters()\n",
    "\n",
    "    def forward(self, x):\n",
    "        return self.model(x)\n",
    "\n",
    "    def training_step(self, batch, batch_idx):\n",
    "        x, y = batch\n",
    "        logits = self(x)\n",
    "        loss_fn = nn.CrossEntropyLoss(weight=self.class_weights.to(self.device))\n",
    "        loss = loss_fn(logits, y)\n",
    "        preds = torch.argmax(logits, dim=1)\n",
    "        acc = self.train_acc(preds, y)\n",
    "\n",
    "        self.log('train_loss', loss, prog_bar=True)\n",
    "        self.log('train_acc', acc, prog_bar=True)\n",
    "\n",
    "        return loss\n",
    "\n",
    "    def validation_step(self, batch, batch_idx):\n",
    "        x, y = batch\n",
    "        logits = self(x)\n",
    "        # Use class weights in loss function\n",
    "        loss_fn = nn.CrossEntropyLoss(weight=self.class_weights.to(self.device))\n",
    "        loss = loss_fn(logits, y)\n",
    "        preds = torch.argmax(logits, dim=1)\n",
    "        acc = self.val_acc(preds, y)\n",
    "\n",
    "        self.log('val_loss', loss, prog_bar=True)\n",
    "        self.log('val_acc', acc, prog_bar=True)\n",
    "\n",
    "        return {'val_loss': loss, 'val_acc': acc}\n",
    "\n",
    "    def configure_optimizers(self):\n",
    "        optimizer = torch.optim.AdamW(\n",
    "            (p for p in self.parameters() if p.requires_grad),\n",
    "            lr=self.learning_rate,\n",
    "            weight_decay=0.01\n",
    "        )\n",
    "\n",
    "        scheduler = {\n",
    "            'scheduler': torch.optim.lr_scheduler.ReduceLROnPlateau(\n",
    "                optimizer,\n",
    "                mode='min',\n",
    "                factor=0.5,\n",
    "                patience=2,\n",
    "                verbose=True\n",
    "            ),\n",
    "            'monitor': 'val_loss',\n",
    "            'interval': 'epoch',\n",
    "            'frequency': 1\n",
    "        }\n",
    "\n",
    "        return {\n",
    "            'optimizer': optimizer,\n",
    "            'lr_scheduler': scheduler\n",
    "        }\n"
   ]
  },
  {
   "cell_type": "markdown",
   "metadata": {},
   "source": [
    " ## 7. Training Setup and Execution"
   ]
  },
  {
   "cell_type": "markdown",
   "metadata": {},
   "source": [
    "The train_model function handles the training pipeline:\n",
    "- Initializes model with class weights\n",
    "- Sets up GPU acceleration if available\n",
    "- Implements callbacks:\n",
    "  - ModelCheckpoint to save best models\n",
    "  - EarlyStopping to prevent overfitting\n",
    "- Configures PyTorch Lightning trainer with:\n",
    "  - Mixed precision training when possible\n",
    "  - Progress bar\n",
    "  - Specified number of epochs"
   ]
  },
  {
   "cell_type": "code",
   "execution_count": null,
   "metadata": {},
   "outputs": [],
   "source": [
    "def train_model(data_module):\n",
    "    logger.info(\"Initializing training process...\")\n",
    "\n",
    "    data_module.setup()\n",
    "\n",
    "    logger.info(\"Creating model...\")\n",
    "    model = MushroomClassifier(class_weights=data_module.class_weights)\n",
    "\n",
    "    logger.info(\"Setting up trainer...\")\n",
    "    accelerator = 'gpu' if torch.cuda.is_available() else 'cpu'\n",
    "    devices = 1 if accelerator == 'gpu' else None\n",
    "    precision = '16-mixed' if accelerator == 'gpu' else 32\n",
    "\n",
    "    checkpoint_callback = ModelCheckpoint(\n",
    "        monitor='val_loss',\n",
    "        dirpath='checkpoints',\n",
    "        filename='mushroom-classifier-{epoch:02d}-{val_loss:.2f}',\n",
    "        save_top_k=1,\n",
    "        mode='min',\n",
    "    )\n",
    "\n",
    "    early_stopping_callback = EarlyStopping(\n",
    "        monitor='val_loss',\n",
    "        patience=Config.EARLY_STOPPING_PATIENCE,\n",
    "        mode='min',\n",
    "        verbose=True\n",
    "    )\n",
    "\n",
    "    trainer = pl.Trainer(\n",
    "        max_epochs=Config.EPOCHS,\n",
    "        accelerator=accelerator,\n",
    "        devices=devices,\n",
    "        precision=precision,\n",
    "        enable_progress_bar=True,\n",
    "        callbacks=[\n",
    "            checkpoint_callback,\n",
    "            early_stopping_callback\n",
    "        ]\n",
    "    )\n",
    "\n",
    "    logger.info(\"Starting training...\")\n",
    "    trainer.fit(model, data_module)\n",
    "\n",
    "    return model, trainer\n"
   ]
  },
  {
   "cell_type": "markdown",
   "metadata": {},
   "source": [
    " ## 8. Run Training"
   ]
  },
  {
   "cell_type": "markdown",
   "metadata": {},
   "source": [
    "The main execution block:\n",
    "- Sets up multiprocessing for data loading\n",
    "- Ensures reproducibility with random seeds\n",
    "- Configures device (GPU/CPU)\n",
    "- Creates data module with specified transforms\n",
    "- Executes the training process"
   ]
  },
  {
   "cell_type": "code",
   "execution_count": 5,
   "metadata": {},
   "outputs": [
    {
     "name": "stderr",
     "output_type": "stream",
     "text": [
      "Seed set to 42\n",
      "INFO:mushroom_data_module:DataModule initialized with batch_size: 32, workers: 4\n",
      "INFO:__main__:Initializing training process...\n",
      "INFO:mushroom_data_module:Setting up DataModule for stage: None\n",
      "INFO:mushroom_data_module:Processing genus Agaricus (class 0)\n",
      "INFO:mushroom_data_module:Processing genus Amanita (class 1)\n",
      "INFO:mushroom_data_module:Processing genus Boletus (class 2)\n",
      "INFO:mushroom_data_module:Processing genus Cortinarius (class 3)\n",
      "INFO:mushroom_data_module:Processing genus Entoloma (class 4)\n",
      "INFO:mushroom_data_module:Processing genus Hygrocybe (class 5)\n",
      "INFO:mushroom_data_module:Processing genus Lactarius (class 6)\n",
      "INFO:mushroom_data_module:Processing genus Russula (class 7)\n",
      "INFO:mushroom_data_module:Processing genus Suillus (class 8)\n",
      "INFO:mushroom_data_module:Train dataset size: 5371\n",
      "INFO:mushroom_data_module:Val dataset size: 1343\n",
      "INFO:__main__:Creating model...\n",
      "INFO:__main__:Setting up trainer...\n",
      "Using 16bit Automatic Mixed Precision (AMP)\n",
      "GPU available: True (cuda), used: True\n",
      "TPU available: False, using: 0 TPU cores\n",
      "HPU available: False, using: 0 HPUs\n",
      "INFO:__main__:Starting training...\n",
      "You are using a CUDA device ('NVIDIA GeForce RTX 3070 Laptop GPU') that has Tensor Cores. To properly utilize them, you should set `torch.set_float32_matmul_precision('medium' | 'high')` which will trade-off precision for performance. For more details, read https://pytorch.org/docs/stable/generated/torch.set_float32_matmul_precision.html#torch.set_float32_matmul_precision\n",
      "INFO:mushroom_data_module:Setting up DataModule for stage: fit\n",
      "INFO:mushroom_data_module:Processing genus Agaricus (class 0)\n",
      "INFO:mushroom_data_module:Processing genus Amanita (class 1)\n",
      "INFO:mushroom_data_module:Processing genus Boletus (class 2)\n",
      "INFO:mushroom_data_module:Processing genus Cortinarius (class 3)\n",
      "INFO:mushroom_data_module:Processing genus Entoloma (class 4)\n",
      "INFO:mushroom_data_module:Processing genus Hygrocybe (class 5)\n",
      "INFO:mushroom_data_module:Processing genus Lactarius (class 6)\n",
      "INFO:mushroom_data_module:Processing genus Russula (class 7)\n",
      "INFO:mushroom_data_module:Processing genus Suillus (class 8)\n",
      "INFO:mushroom_data_module:Train dataset size: 5371\n",
      "INFO:mushroom_data_module:Val dataset size: 1343\n",
      "c:\\Users\\kresi\\AppData\\Local\\Programs\\Python\\Python310\\lib\\site-packages\\pytorch_lightning\\callbacks\\model_checkpoint.py:654: Checkpoint directory C:\\Users\\kresi\\OneDrive\\Desktop\\Turing college\\DL\\Mushroom\\checkpoints exists and is not empty.\n",
      "LOCAL_RANK: 0 - CUDA_VISIBLE_DEVICES: [0]\n",
      "c:\\Users\\kresi\\AppData\\Local\\Programs\\Python\\Python310\\lib\\site-packages\\torch\\optim\\lr_scheduler.py:62: UserWarning: The verbose parameter is deprecated. Please use get_last_lr() to access the learning rate.\n",
      "  warnings.warn(\n",
      "\n",
      "  | Name      | Type               | Params | Mode \n",
      "---------------------------------------------------------\n",
      "0 | model     | ResNet             | 21.3 M | train\n",
      "1 | train_acc | MulticlassAccuracy | 0      | train\n",
      "2 | val_acc   | MulticlassAccuracy | 0      | train\n",
      "---------------------------------------------------------\n",
      "19.9 M    Trainable params\n",
      "1.3 M     Non-trainable params\n",
      "21.3 M    Total params\n",
      "85.157    Total estimated model params size (MB)\n",
      "118       Modules in train mode\n",
      "0         Modules in eval mode\n"
     ]
    },
    {
     "data": {
      "application/vnd.jupyter.widget-view+json": {
       "model_id": "3b26466f00a840c9b7b6734630221429",
       "version_major": 2,
       "version_minor": 0
      },
      "text/plain": [
       "Sanity Checking: |          | 0/? [00:00<?, ?it/s]"
      ]
     },
     "metadata": {},
     "output_type": "display_data"
    },
    {
     "data": {
      "application/vnd.jupyter.widget-view+json": {
       "model_id": "3bce81b5c11e4a28a1b97b456295545f",
       "version_major": 2,
       "version_minor": 0
      },
      "text/plain": [
       "Training: |          | 0/? [00:00<?, ?it/s]"
      ]
     },
     "metadata": {},
     "output_type": "display_data"
    },
    {
     "data": {
      "application/vnd.jupyter.widget-view+json": {
       "model_id": "1813f8bd3f70410b90c889805ccbd808",
       "version_major": 2,
       "version_minor": 0
      },
      "text/plain": [
       "Validation: |          | 0/? [00:00<?, ?it/s]"
      ]
     },
     "metadata": {},
     "output_type": "display_data"
    },
    {
     "name": "stderr",
     "output_type": "stream",
     "text": [
      "Metric val_loss improved. New best score: 0.802\n"
     ]
    },
    {
     "data": {
      "application/vnd.jupyter.widget-view+json": {
       "model_id": "af796d214a374766aa54676872097f67",
       "version_major": 2,
       "version_minor": 0
      },
      "text/plain": [
       "Validation: |          | 0/? [00:00<?, ?it/s]"
      ]
     },
     "metadata": {},
     "output_type": "display_data"
    },
    {
     "name": "stderr",
     "output_type": "stream",
     "text": [
      "Metric val_loss improved by 0.100 >= min_delta = 0.0. New best score: 0.702\n"
     ]
    },
    {
     "data": {
      "application/vnd.jupyter.widget-view+json": {
       "model_id": "88702b3f282e412285937a68e7d81342",
       "version_major": 2,
       "version_minor": 0
      },
      "text/plain": [
       "Validation: |          | 0/? [00:00<?, ?it/s]"
      ]
     },
     "metadata": {},
     "output_type": "display_data"
    },
    {
     "name": "stderr",
     "output_type": "stream",
     "text": [
      "Metric val_loss improved by 0.091 >= min_delta = 0.0. New best score: 0.611\n"
     ]
    },
    {
     "data": {
      "application/vnd.jupyter.widget-view+json": {
       "model_id": "0c06c1ac045d4147ada4f306db9aa778",
       "version_major": 2,
       "version_minor": 0
      },
      "text/plain": [
       "Validation: |          | 0/? [00:00<?, ?it/s]"
      ]
     },
     "metadata": {},
     "output_type": "display_data"
    },
    {
     "name": "stderr",
     "output_type": "stream",
     "text": [
      "Metric val_loss improved by 0.028 >= min_delta = 0.0. New best score: 0.583\n"
     ]
    },
    {
     "data": {
      "application/vnd.jupyter.widget-view+json": {
       "model_id": "17a20bae41fd4ee5ac215c73c5579e87",
       "version_major": 2,
       "version_minor": 0
      },
      "text/plain": [
       "Validation: |          | 0/? [00:00<?, ?it/s]"
      ]
     },
     "metadata": {},
     "output_type": "display_data"
    },
    {
     "data": {
      "application/vnd.jupyter.widget-view+json": {
       "model_id": "57c542fe24d8465abeb540a32ee33165",
       "version_major": 2,
       "version_minor": 0
      },
      "text/plain": [
       "Validation: |          | 0/? [00:00<?, ?it/s]"
      ]
     },
     "metadata": {},
     "output_type": "display_data"
    },
    {
     "name": "stderr",
     "output_type": "stream",
     "text": [
      "Metric val_loss improved by 0.047 >= min_delta = 0.0. New best score: 0.536\n"
     ]
    },
    {
     "data": {
      "application/vnd.jupyter.widget-view+json": {
       "model_id": "4add94e0ddf442a49f5c0440267579ba",
       "version_major": 2,
       "version_minor": 0
      },
      "text/plain": [
       "Validation: |          | 0/? [00:00<?, ?it/s]"
      ]
     },
     "metadata": {},
     "output_type": "display_data"
    },
    {
     "name": "stderr",
     "output_type": "stream",
     "text": [
      "Metric val_loss improved by 0.001 >= min_delta = 0.0. New best score: 0.535\n"
     ]
    },
    {
     "data": {
      "application/vnd.jupyter.widget-view+json": {
       "model_id": "684c36bdb17142a3a8109f6c3ad5b1a8",
       "version_major": 2,
       "version_minor": 0
      },
      "text/plain": [
       "Validation: |          | 0/? [00:00<?, ?it/s]"
      ]
     },
     "metadata": {},
     "output_type": "display_data"
    },
    {
     "data": {
      "application/vnd.jupyter.widget-view+json": {
       "model_id": "88ecdc6f383b482495774a1e87ae0b6b",
       "version_major": 2,
       "version_minor": 0
      },
      "text/plain": [
       "Validation: |          | 0/? [00:00<?, ?it/s]"
      ]
     },
     "metadata": {},
     "output_type": "display_data"
    },
    {
     "name": "stderr",
     "output_type": "stream",
     "text": [
      "Metric val_loss improved by 0.038 >= min_delta = 0.0. New best score: 0.497\n"
     ]
    },
    {
     "data": {
      "application/vnd.jupyter.widget-view+json": {
       "model_id": "0e8f4870d1cb493da1f9312a34e399df",
       "version_major": 2,
       "version_minor": 0
      },
      "text/plain": [
       "Validation: |          | 0/? [00:00<?, ?it/s]"
      ]
     },
     "metadata": {},
     "output_type": "display_data"
    },
    {
     "name": "stderr",
     "output_type": "stream",
     "text": [
      "Metric val_loss improved by 0.051 >= min_delta = 0.0. New best score: 0.446\n"
     ]
    },
    {
     "data": {
      "application/vnd.jupyter.widget-view+json": {
       "model_id": "90755d00dd314efea7a34344abcf6512",
       "version_major": 2,
       "version_minor": 0
      },
      "text/plain": [
       "Validation: |          | 0/? [00:00<?, ?it/s]"
      ]
     },
     "metadata": {},
     "output_type": "display_data"
    },
    {
     "data": {
      "application/vnd.jupyter.widget-view+json": {
       "model_id": "30487f92249e4a43913b1019feaa9078",
       "version_major": 2,
       "version_minor": 0
      },
      "text/plain": [
       "Validation: |          | 0/? [00:00<?, ?it/s]"
      ]
     },
     "metadata": {},
     "output_type": "display_data"
    },
    {
     "data": {
      "application/vnd.jupyter.widget-view+json": {
       "model_id": "248f03d655c345c682a7c3eaacb7727f",
       "version_major": 2,
       "version_minor": 0
      },
      "text/plain": [
       "Validation: |          | 0/? [00:00<?, ?it/s]"
      ]
     },
     "metadata": {},
     "output_type": "display_data"
    },
    {
     "data": {
      "application/vnd.jupyter.widget-view+json": {
       "model_id": "b4f23812bc85497c82a8b82da7c7ebb4",
       "version_major": 2,
       "version_minor": 0
      },
      "text/plain": [
       "Validation: |          | 0/? [00:00<?, ?it/s]"
      ]
     },
     "metadata": {},
     "output_type": "display_data"
    },
    {
     "name": "stderr",
     "output_type": "stream",
     "text": [
      "Metric val_loss improved by 0.049 >= min_delta = 0.0. New best score: 0.396\n"
     ]
    },
    {
     "data": {
      "application/vnd.jupyter.widget-view+json": {
       "model_id": "d7f63be6c5174ee38f9f1e4fb071ba48",
       "version_major": 2,
       "version_minor": 0
      },
      "text/plain": [
       "Validation: |          | 0/? [00:00<?, ?it/s]"
      ]
     },
     "metadata": {},
     "output_type": "display_data"
    },
    {
     "data": {
      "application/vnd.jupyter.widget-view+json": {
       "model_id": "0021428f01f8455b8976d1e9e2703f32",
       "version_major": 2,
       "version_minor": 0
      },
      "text/plain": [
       "Validation: |          | 0/? [00:00<?, ?it/s]"
      ]
     },
     "metadata": {},
     "output_type": "display_data"
    },
    {
     "data": {
      "application/vnd.jupyter.widget-view+json": {
       "model_id": "4916379f2aa24ec7af3ff6556671bcc4",
       "version_major": 2,
       "version_minor": 0
      },
      "text/plain": [
       "Validation: |          | 0/? [00:00<?, ?it/s]"
      ]
     },
     "metadata": {},
     "output_type": "display_data"
    },
    {
     "name": "stderr",
     "output_type": "stream",
     "text": [
      "Metric val_loss improved by 0.003 >= min_delta = 0.0. New best score: 0.393\n"
     ]
    },
    {
     "data": {
      "application/vnd.jupyter.widget-view+json": {
       "model_id": "1c3f25729a974175b9e8a186fc303ce4",
       "version_major": 2,
       "version_minor": 0
      },
      "text/plain": [
       "Validation: |          | 0/? [00:00<?, ?it/s]"
      ]
     },
     "metadata": {},
     "output_type": "display_data"
    },
    {
     "name": "stderr",
     "output_type": "stream",
     "text": [
      "Metric val_loss improved by 0.012 >= min_delta = 0.0. New best score: 0.381\n"
     ]
    },
    {
     "data": {
      "application/vnd.jupyter.widget-view+json": {
       "model_id": "ac7928ed28e8488ea91bc5a2020ca509",
       "version_major": 2,
       "version_minor": 0
      },
      "text/plain": [
       "Validation: |          | 0/? [00:00<?, ?it/s]"
      ]
     },
     "metadata": {},
     "output_type": "display_data"
    },
    {
     "data": {
      "application/vnd.jupyter.widget-view+json": {
       "model_id": "ee88bf0d7f964fe88fd437dbe6cdea92",
       "version_major": 2,
       "version_minor": 0
      },
      "text/plain": [
       "Validation: |          | 0/? [00:00<?, ?it/s]"
      ]
     },
     "metadata": {},
     "output_type": "display_data"
    },
    {
     "data": {
      "application/vnd.jupyter.widget-view+json": {
       "model_id": "e6ebcfdb1af648a0b5505b91552661a1",
       "version_major": 2,
       "version_minor": 0
      },
      "text/plain": [
       "Validation: |          | 0/? [00:00<?, ?it/s]"
      ]
     },
     "metadata": {},
     "output_type": "display_data"
    },
    {
     "data": {
      "application/vnd.jupyter.widget-view+json": {
       "model_id": "33c7974989034b2b9df72a12f5220922",
       "version_major": 2,
       "version_minor": 0
      },
      "text/plain": [
       "Validation: |          | 0/? [00:00<?, ?it/s]"
      ]
     },
     "metadata": {},
     "output_type": "display_data"
    },
    {
     "data": {
      "application/vnd.jupyter.widget-view+json": {
       "model_id": "c28a797596e5486f90ee7311a285dd19",
       "version_major": 2,
       "version_minor": 0
      },
      "text/plain": [
       "Validation: |          | 0/? [00:00<?, ?it/s]"
      ]
     },
     "metadata": {},
     "output_type": "display_data"
    },
    {
     "name": "stderr",
     "output_type": "stream",
     "text": [
      "Monitored metric val_loss did not improve in the last 5 records. Best score: 0.381. Signaling Trainer to stop.\n"
     ]
    }
   ],
   "source": [
    "if __name__ == \"__main__\":\n",
    "    multiprocessing.set_start_method('spawn', force=True)\n",
    "\n",
    "    pl.seed_everything(42)\n",
    "    Config.DEVICE = torch.device(\"cuda\" if torch.cuda.is_available() else \"cpu\")\n",
    "\n",
    "    data_module = MushroomDataModule(\n",
    "        Config.DATA_PATH,\n",
    "        batch_size=Config.BATCH_SIZE,\n",
    "        num_workers=4,\n",
    "        train_transforms=train_transforms,\n",
    "        val_transforms=val_transforms\n",
    "    )\n",
    "\n",
    "    model, trainer = train_model(data_module)\n"
   ]
  },
  {
   "cell_type": "markdown",
   "metadata": {},
   "source": [
    " ## 9. Model Evaluation"
   ]
  },
  {
   "cell_type": "markdown",
   "metadata": {},
   "source": [
    "The evaluation code:\n",
    "- Runs predictions on validation set\n",
    "- Creates and plots confusion matrix\n",
    "- Generates detailed classification report\n",
    "- Handles moving data between CPU and GPU\n",
    "- Visualizes results using seaborn heatmap"
   ]
  },
  {
   "cell_type": "code",
   "execution_count": 6,
   "metadata": {},
   "outputs": [],
   "source": [
    "\n",
    "def evaluate_model(model, data_module):\n",
    "    model.eval()\n",
    "\n",
    "    model = model.to(Config.DEVICE)\n",
    "\n",
    "    val_loader = data_module.val_dataloader()\n",
    "\n",
    "    all_preds = []\n",
    "    all_labels = []\n",
    "\n",
    "    with torch.no_grad():\n",
    "        for batch in val_loader:\n",
    "            x, y = batch\n",
    "            x = x.to(Config.DEVICE)\n",
    "            y = y.to(Config.DEVICE)\n",
    "\n",
    "            logits = model(x)\n",
    "            preds = torch.argmax(logits, dim=1)\n",
    "\n",
    "            all_preds.extend(preds.cpu().numpy())\n",
    "            all_labels.extend(y.cpu().numpy())\n",
    "\n",
    "    cm = confusion_matrix(all_labels, all_preds)\n",
    "\n",
    "    plt.figure(figsize=(10, 8))\n",
    "    sns.heatmap(cm, annot=True, fmt='d', cmap='Blues', xticklabels=data_module.class_to_idx.keys(), yticklabels=data_module.class_to_idx.keys())\n",
    "    plt.title('Confusion Matrix')\n",
    "    plt.xlabel('Predicted')\n",
    "    plt.ylabel('True')\n",
    "    plt.show()\n",
    "\n",
    "    print(\"\\nClassification Report:\")\n",
    "    print(classification_report(\n",
    "        all_labels,\n",
    "        all_preds,\n",
    "        target_names=list(data_module.class_to_idx.keys())\n",
    "    ))\n"
   ]
  },
  {
   "cell_type": "code",
   "execution_count": 7,
   "metadata": {},
   "outputs": [
    {
     "data": {
      "image/png": "[encoded data removed]",
      "text/plain": [
       "<Figure size 1000x800 with 2 Axes>"
      ]
     },
     "metadata": {},
     "output_type": "display_data"
    },
    {
     "name": "stdout",
     "output_type": "stream",
     "text": [
      "\n",
      "Classification Report:\n",
      "              precision    recall  f1-score   support\n",
      "\n",
      "    Agaricus       0.83      0.89      0.86        70\n",
      "     Amanita       0.91      0.87      0.89       150\n",
      "     Boletus       0.95      0.93      0.94       215\n",
      " Cortinarius       0.87      0.77      0.82       167\n",
      "    Entoloma       0.87      0.92      0.89        73\n",
      "   Hygrocybe       0.92      0.94      0.93        63\n",
      "   Lactarius       0.89      0.89      0.89       313\n",
      "     Russula       0.86      0.88      0.87       230\n",
      "     Suillus       0.67      0.81      0.73        62\n",
      "\n",
      "    accuracy                           0.88      1343\n",
      "   macro avg       0.86      0.88      0.87      1343\n",
      "weighted avg       0.88      0.88      0.88      1343\n",
      "\n"
     ]
    }
   ],
   "source": [
    "if __name__ == \"__main__\":\n",
    "    evaluate_model(model, data_module)\n"
   ]
  },
  {
   "cell_type": "markdown",
   "metadata": {},
   "source": [
    "Based on the confusion matrix and classification report, here are the key conclusions for the mushroom classification model:\n",
    "\n",
    "Strong Performance Points:\n",
    "1. Overall Accuracy: The model achieves a solid 88% accuracy across all classes, which is quite good for a 9-class mushroom classification problem.\n",
    "\n",
    "2. Best Performing Classes:\n",
    "- Boletus: Excellent performance with 0.94 F1-score (95% precision, 93% recall)\n",
    "- Hygrocybe: Very strong with 0.93 F1-score (92% precision, 94% recall)\n",
    "- Most classes show F1-scores between 0.86-0.89, indicating consistent performance\n",
    "\n",
    "Areas for Improvement:\n",
    "1. Suillus Class:\n",
    "- Lowest performing class with 0.73 F1-score\n",
    "- Lower precision (67%) suggests more false positives\n",
    "- Often confused with Boletus (8 cases) and Lactarius (5 cases)\n",
    "\n",
    "2. Cortinarius:\n",
    "- Lower recall (77%) indicates more missed identifications\n",
    "- Shows confusion with several other species, particularly Lactarius and Russula\n",
    "\n",
    "Common Confusion Patterns:\n",
    "1. Lactarius-Russula Confusion:\n",
    "- 14 Lactarius specimens misclassified as Russula\n",
    "- 15 Russula specimens misclassified as Lactarius\n",
    "- This is understandable as these genera share similar morphological features\n",
    "\n",
    "Safety Implications:\n",
    "1. The model shows good precision for potentially dangerous genera like Amanita (91% precision), which is crucial for safety.\n",
    "2. Most misclassifications occur between similar-looking, related genera rather than between edible and poisonous species.\n",
    "\n",
    "Recommendations:\n",
    "1. To improve Suillus classification:\n",
    "- Collect more training data for this class\n",
    "- Consider additional augmentation techniques specific to Suillus features\n",
    "- Review the misclassified cases to identify common patterns\n",
    "\n",
    "2. For Cortinarius improvement:\n",
    "- Focus on distinctive features that separate it from Lactarius and Russula\n",
    "- Possibly implement attention mechanisms to focus on key distinguishing characteristics\n",
    "\n",
    "3. General improvements:\n",
    "- Consider implementing confidence thresholds for classifications\n",
    "- Add explanatory features to highlight what the model is looking at\n",
    "- Implement ensemble methods for critical classifications\n",
    "\n",
    "The model appears suitable for initial screening but should be used as part of a broader identification process, especially given the safety-critical nature of mushroom identification."
   ]
  }
 ],
 "metadata": {
  "kernelspec": {
   "display_name": "Python 3",
   "language": "python",
   "name": "python3"
  },
  "language_info": {
   "codemirror_mode": {
    "name": "ipython",
    "version": 3
   },
   "file_extension": ".py",
   "mimetype": "text/x-python",
   "name": "python",
   "nbconvert_exporter": "python",
   "pygments_lexer": "ipython3",
   "version": "3.10.0"
  }
 },
 "nbformat": 4,
 "nbformat_minor": 2
}
